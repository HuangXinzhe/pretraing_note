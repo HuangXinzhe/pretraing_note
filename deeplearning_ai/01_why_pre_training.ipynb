{
 "cells": [
  {
   "cell_type": "markdown",
   "metadata": {},
   "source": [
    "# 预训练"
   ]
  },
  {
   "cell_type": "markdown",
   "metadata": {},
   "source": [
    "## 安装相关依赖"
   ]
  },
  {
   "cell_type": "code",
   "execution_count": 3,
   "metadata": {},
   "outputs": [
    {
     "name": "stdout",
     "output_type": "stream",
     "text": [
      "Looking in indexes: https://pypi.tuna.tsinghua.edu.cn/simple\n",
      "Requirement already satisfied: accelerate==0.26.1 in /Users/huangxinzhe/opt/anaconda3/lib/python3.9/site-packages (from -r ./requirements.txt (line 1)) (0.26.1)\n",
      "Requirement already satisfied: datasets==2.16.1 in /Users/huangxinzhe/opt/anaconda3/lib/python3.9/site-packages (from -r ./requirements.txt (line 2)) (2.16.1)\n",
      "Requirement already satisfied: fasttext==0.9.2 in /Users/huangxinzhe/opt/anaconda3/lib/python3.9/site-packages (from -r ./requirements.txt (line 3)) (0.9.2)\n",
      "Requirement already satisfied: jupyter==1.0.0 in /Users/huangxinzhe/opt/anaconda3/lib/python3.9/site-packages (from -r ./requirements.txt (line 4)) (1.0.0)\n",
      "Requirement already satisfied: pandas==2.2.0 in /Users/huangxinzhe/opt/anaconda3/lib/python3.9/site-packages (from -r ./requirements.txt (line 5)) (2.2.0)\n",
      "Requirement already satisfied: pyarrow==15.0.0 in /Users/huangxinzhe/opt/anaconda3/lib/python3.9/site-packages (from -r ./requirements.txt (line 6)) (15.0.0)\n",
      "Requirement already satisfied: sentencepiece==0.1.99 in /Users/huangxinzhe/opt/anaconda3/lib/python3.9/site-packages (from -r ./requirements.txt (line 7)) (0.1.99)\n",
      "Collecting torch==2.1.2 (from -r ./requirements.txt (line 8))\n",
      "  Using cached https://pypi.tuna.tsinghua.edu.cn/packages/07/b4/a064d86c3879a13912e6bf6742934c11dc547e728064e58fd65073664e01/torch-2.1.2-cp39-none-macosx_11_0_arm64.whl (59.6 MB)\n",
      "Requirement already satisfied: torchaudio==2.1.2 in /Users/huangxinzhe/opt/anaconda3/lib/python3.9/site-packages (from -r ./requirements.txt (line 9)) (2.1.2)\n",
      "Requirement already satisfied: torchvision==0.16.2 in /Users/huangxinzhe/opt/anaconda3/lib/python3.9/site-packages (from -r ./requirements.txt (line 10)) (0.16.2)\n",
      "Requirement already satisfied: tqdm==4.66.1 in /Users/huangxinzhe/opt/anaconda3/lib/python3.9/site-packages (from -r ./requirements.txt (line 11)) (4.66.1)\n",
      "Requirement already satisfied: transformers==4.37.2 in /Users/huangxinzhe/opt/anaconda3/lib/python3.9/site-packages (from -r ./requirements.txt (line 12)) (4.37.2)\n",
      "Requirement already satisfied: numpy>=1.17 in /Users/huangxinzhe/opt/anaconda3/lib/python3.9/site-packages (from accelerate==0.26.1->-r ./requirements.txt (line 1)) (1.23.5)\n",
      "Requirement already satisfied: packaging>=20.0 in /Users/huangxinzhe/opt/anaconda3/lib/python3.9/site-packages (from accelerate==0.26.1->-r ./requirements.txt (line 1)) (24.1)\n",
      "Requirement already satisfied: psutil in /Users/huangxinzhe/opt/anaconda3/lib/python3.9/site-packages (from accelerate==0.26.1->-r ./requirements.txt (line 1)) (5.9.0)\n",
      "Requirement already satisfied: pyyaml in /Users/huangxinzhe/opt/anaconda3/lib/python3.9/site-packages (from accelerate==0.26.1->-r ./requirements.txt (line 1)) (6.0)\n",
      "Requirement already satisfied: huggingface-hub in /Users/huangxinzhe/opt/anaconda3/lib/python3.9/site-packages (from accelerate==0.26.1->-r ./requirements.txt (line 1)) (0.23.1)\n",
      "Requirement already satisfied: safetensors>=0.3.1 in /Users/huangxinzhe/opt/anaconda3/lib/python3.9/site-packages (from accelerate==0.26.1->-r ./requirements.txt (line 1)) (0.4.2)\n",
      "Requirement already satisfied: filelock in /Users/huangxinzhe/opt/anaconda3/lib/python3.9/site-packages (from datasets==2.16.1->-r ./requirements.txt (line 2)) (3.15.4)\n",
      "Requirement already satisfied: pyarrow-hotfix in /Users/huangxinzhe/opt/anaconda3/lib/python3.9/site-packages (from datasets==2.16.1->-r ./requirements.txt (line 2)) (0.6)\n",
      "Requirement already satisfied: dill<0.3.8,>=0.3.0 in /Users/huangxinzhe/opt/anaconda3/lib/python3.9/site-packages (from datasets==2.16.1->-r ./requirements.txt (line 2)) (0.3.7)\n",
      "Requirement already satisfied: requests>=2.19.0 in /Users/huangxinzhe/opt/anaconda3/lib/python3.9/site-packages (from datasets==2.16.1->-r ./requirements.txt (line 2)) (2.32.3)\n",
      "Requirement already satisfied: xxhash in /Users/huangxinzhe/opt/anaconda3/lib/python3.9/site-packages (from datasets==2.16.1->-r ./requirements.txt (line 2)) (3.4.1)\n",
      "Requirement already satisfied: multiprocess in /Users/huangxinzhe/opt/anaconda3/lib/python3.9/site-packages (from datasets==2.16.1->-r ./requirements.txt (line 2)) (0.70.15)\n",
      "Requirement already satisfied: fsspec<=2023.10.0,>=2023.1.0 in /Users/huangxinzhe/opt/anaconda3/lib/python3.9/site-packages (from fsspec[http]<=2023.10.0,>=2023.1.0->datasets==2.16.1->-r ./requirements.txt (line 2)) (2023.10.0)\n",
      "Requirement already satisfied: aiohttp in /Users/huangxinzhe/opt/anaconda3/lib/python3.9/site-packages (from datasets==2.16.1->-r ./requirements.txt (line 2)) (3.9.5)\n",
      "Requirement already satisfied: pybind11>=2.2 in /Users/huangxinzhe/opt/anaconda3/lib/python3.9/site-packages (from fasttext==0.9.2->-r ./requirements.txt (line 3)) (2.13.1)\n",
      "Requirement already satisfied: setuptools>=0.7.0 in /Users/huangxinzhe/opt/anaconda3/lib/python3.9/site-packages (from fasttext==0.9.2->-r ./requirements.txt (line 3)) (66.0.0)\n",
      "Requirement already satisfied: notebook in /Users/huangxinzhe/opt/anaconda3/lib/python3.9/site-packages (from jupyter==1.0.0->-r ./requirements.txt (line 4)) (6.5.4)\n",
      "Requirement already satisfied: qtconsole in /Users/huangxinzhe/opt/anaconda3/lib/python3.9/site-packages (from jupyter==1.0.0->-r ./requirements.txt (line 4)) (5.4.2)\n",
      "Requirement already satisfied: jupyter-console in /Users/huangxinzhe/opt/anaconda3/lib/python3.9/site-packages (from jupyter==1.0.0->-r ./requirements.txt (line 4)) (6.6.3)\n",
      "Requirement already satisfied: nbconvert in /Users/huangxinzhe/opt/anaconda3/lib/python3.9/site-packages (from jupyter==1.0.0->-r ./requirements.txt (line 4)) (6.4.4)\n",
      "Requirement already satisfied: ipykernel in /Users/huangxinzhe/opt/anaconda3/lib/python3.9/site-packages (from jupyter==1.0.0->-r ./requirements.txt (line 4)) (6.15.2)\n",
      "Requirement already satisfied: ipywidgets in /Users/huangxinzhe/opt/anaconda3/lib/python3.9/site-packages (from jupyter==1.0.0->-r ./requirements.txt (line 4)) (8.0.4)\n",
      "Requirement already satisfied: python-dateutil>=2.8.2 in /Users/huangxinzhe/opt/anaconda3/lib/python3.9/site-packages (from pandas==2.2.0->-r ./requirements.txt (line 5)) (2.8.2)\n",
      "Requirement already satisfied: pytz>=2020.1 in /Users/huangxinzhe/opt/anaconda3/lib/python3.9/site-packages (from pandas==2.2.0->-r ./requirements.txt (line 5)) (2022.7)\n",
      "Requirement already satisfied: tzdata>=2022.7 in /Users/huangxinzhe/opt/anaconda3/lib/python3.9/site-packages (from pandas==2.2.0->-r ./requirements.txt (line 5)) (2024.1)\n",
      "Requirement already satisfied: typing-extensions in /Users/huangxinzhe/opt/anaconda3/lib/python3.9/site-packages (from torch==2.1.2->-r ./requirements.txt (line 8)) (4.11.0)\n",
      "Requirement already satisfied: sympy in /Users/huangxinzhe/opt/anaconda3/lib/python3.9/site-packages (from torch==2.1.2->-r ./requirements.txt (line 8)) (1.11.1)\n",
      "Requirement already satisfied: networkx in /Users/huangxinzhe/opt/anaconda3/lib/python3.9/site-packages (from torch==2.1.2->-r ./requirements.txt (line 8)) (2.8.4)\n",
      "Requirement already satisfied: jinja2 in /Users/huangxinzhe/opt/anaconda3/lib/python3.9/site-packages (from torch==2.1.2->-r ./requirements.txt (line 8)) (3.1.4)\n",
      "Requirement already satisfied: pillow!=8.3.*,>=5.3.0 in /Users/huangxinzhe/opt/anaconda3/lib/python3.9/site-packages (from torchvision==0.16.2->-r ./requirements.txt (line 10)) (10.4.0)\n",
      "Requirement already satisfied: regex!=2019.12.17 in /Users/huangxinzhe/opt/anaconda3/lib/python3.9/site-packages (from transformers==4.37.2->-r ./requirements.txt (line 12)) (2022.7.9)\n",
      "Requirement already satisfied: tokenizers<0.19,>=0.14 in /Users/huangxinzhe/opt/anaconda3/lib/python3.9/site-packages (from transformers==4.37.2->-r ./requirements.txt (line 12)) (0.15.1)\n",
      "Requirement already satisfied: aiosignal>=1.1.2 in /Users/huangxinzhe/opt/anaconda3/lib/python3.9/site-packages (from aiohttp->datasets==2.16.1->-r ./requirements.txt (line 2)) (1.3.1)\n",
      "Requirement already satisfied: attrs>=17.3.0 in /Users/huangxinzhe/opt/anaconda3/lib/python3.9/site-packages (from aiohttp->datasets==2.16.1->-r ./requirements.txt (line 2)) (23.2.0)\n",
      "Requirement already satisfied: frozenlist>=1.1.1 in /Users/huangxinzhe/opt/anaconda3/lib/python3.9/site-packages (from aiohttp->datasets==2.16.1->-r ./requirements.txt (line 2)) (1.4.0)\n",
      "Requirement already satisfied: multidict<7.0,>=4.5 in /Users/huangxinzhe/opt/anaconda3/lib/python3.9/site-packages (from aiohttp->datasets==2.16.1->-r ./requirements.txt (line 2)) (6.0.4)\n",
      "Requirement already satisfied: yarl<2.0,>=1.0 in /Users/huangxinzhe/opt/anaconda3/lib/python3.9/site-packages (from aiohttp->datasets==2.16.1->-r ./requirements.txt (line 2)) (1.9.2)\n",
      "Requirement already satisfied: async-timeout<5.0,>=4.0 in /Users/huangxinzhe/opt/anaconda3/lib/python3.9/site-packages (from aiohttp->datasets==2.16.1->-r ./requirements.txt (line 2)) (4.0.2)\n",
      "Requirement already satisfied: six>=1.5 in /Users/huangxinzhe/opt/anaconda3/lib/python3.9/site-packages (from python-dateutil>=2.8.2->pandas==2.2.0->-r ./requirements.txt (line 5)) (1.16.0)\n",
      "Requirement already satisfied: charset-normalizer<4,>=2 in /Users/huangxinzhe/opt/anaconda3/lib/python3.9/site-packages (from requests>=2.19.0->datasets==2.16.1->-r ./requirements.txt (line 2)) (3.3.2)\n",
      "Requirement already satisfied: idna<4,>=2.5 in /Users/huangxinzhe/opt/anaconda3/lib/python3.9/site-packages (from requests>=2.19.0->datasets==2.16.1->-r ./requirements.txt (line 2)) (3.4)\n",
      "Requirement already satisfied: urllib3<3,>=1.21.1 in /Users/huangxinzhe/opt/anaconda3/lib/python3.9/site-packages (from requests>=2.19.0->datasets==2.16.1->-r ./requirements.txt (line 2)) (1.26.15)\n",
      "Requirement already satisfied: certifi>=2017.4.17 in /Users/huangxinzhe/opt/anaconda3/lib/python3.9/site-packages (from requests>=2.19.0->datasets==2.16.1->-r ./requirements.txt (line 2)) (2024.7.4)\n",
      "Requirement already satisfied: appnope in /Users/huangxinzhe/opt/anaconda3/lib/python3.9/site-packages (from ipykernel->jupyter==1.0.0->-r ./requirements.txt (line 4)) (0.1.2)\n",
      "Requirement already satisfied: debugpy>=1.0 in /Users/huangxinzhe/opt/anaconda3/lib/python3.9/site-packages (from ipykernel->jupyter==1.0.0->-r ./requirements.txt (line 4)) (1.5.1)\n",
      "Requirement already satisfied: ipython>=7.23.1 in /Users/huangxinzhe/opt/anaconda3/lib/python3.9/site-packages (from ipykernel->jupyter==1.0.0->-r ./requirements.txt (line 4)) (8.12.0)\n",
      "Requirement already satisfied: jupyter-client>=6.1.12 in /Users/huangxinzhe/opt/anaconda3/lib/python3.9/site-packages (from ipykernel->jupyter==1.0.0->-r ./requirements.txt (line 4)) (8.6.2)\n",
      "Requirement already satisfied: matplotlib-inline>=0.1 in /Users/huangxinzhe/opt/anaconda3/lib/python3.9/site-packages (from ipykernel->jupyter==1.0.0->-r ./requirements.txt (line 4)) (0.1.6)\n",
      "Requirement already satisfied: nest-asyncio in /Users/huangxinzhe/opt/anaconda3/lib/python3.9/site-packages (from ipykernel->jupyter==1.0.0->-r ./requirements.txt (line 4)) (1.5.6)\n",
      "Requirement already satisfied: pyzmq>=17 in /Users/huangxinzhe/opt/anaconda3/lib/python3.9/site-packages (from ipykernel->jupyter==1.0.0->-r ./requirements.txt (line 4)) (23.2.0)\n",
      "Requirement already satisfied: tornado>=6.1 in /Users/huangxinzhe/opt/anaconda3/lib/python3.9/site-packages (from ipykernel->jupyter==1.0.0->-r ./requirements.txt (line 4)) (6.2)\n",
      "Requirement already satisfied: traitlets>=5.1.0 in /Users/huangxinzhe/opt/anaconda3/lib/python3.9/site-packages (from ipykernel->jupyter==1.0.0->-r ./requirements.txt (line 4)) (5.7.1)\n",
      "Requirement already satisfied: widgetsnbextension~=4.0 in /Users/huangxinzhe/opt/anaconda3/lib/python3.9/site-packages (from ipywidgets->jupyter==1.0.0->-r ./requirements.txt (line 4)) (4.0.5)\n",
      "Requirement already satisfied: jupyterlab-widgets~=3.0 in /Users/huangxinzhe/opt/anaconda3/lib/python3.9/site-packages (from ipywidgets->jupyter==1.0.0->-r ./requirements.txt (line 4)) (3.0.5)\n",
      "Requirement already satisfied: MarkupSafe>=2.0 in /Users/huangxinzhe/opt/anaconda3/lib/python3.9/site-packages (from jinja2->torch==2.1.2->-r ./requirements.txt (line 8)) (2.0.1)\n",
      "Requirement already satisfied: jupyter-core!=5.0.*,>=4.12 in /Users/huangxinzhe/opt/anaconda3/lib/python3.9/site-packages (from jupyter-console->jupyter==1.0.0->-r ./requirements.txt (line 4)) (5.3.0)\n",
      "Requirement already satisfied: prompt-toolkit>=3.0.30 in /Users/huangxinzhe/opt/anaconda3/lib/python3.9/site-packages (from jupyter-console->jupyter==1.0.0->-r ./requirements.txt (line 4)) (3.0.36)\n",
      "Requirement already satisfied: pygments in /Users/huangxinzhe/opt/anaconda3/lib/python3.9/site-packages (from jupyter-console->jupyter==1.0.0->-r ./requirements.txt (line 4)) (2.15.1)\n",
      "Requirement already satisfied: mistune<2,>=0.8.1 in /Users/huangxinzhe/opt/anaconda3/lib/python3.9/site-packages (from nbconvert->jupyter==1.0.0->-r ./requirements.txt (line 4)) (0.8.4)\n",
      "Requirement already satisfied: jupyterlab-pygments in /Users/huangxinzhe/opt/anaconda3/lib/python3.9/site-packages (from nbconvert->jupyter==1.0.0->-r ./requirements.txt (line 4)) (0.1.2)\n",
      "Requirement already satisfied: nbformat>=4.4 in /Users/huangxinzhe/opt/anaconda3/lib/python3.9/site-packages (from nbconvert->jupyter==1.0.0->-r ./requirements.txt (line 4)) (5.7.0)\n",
      "Requirement already satisfied: entrypoints>=0.2.2 in /Users/huangxinzhe/opt/anaconda3/lib/python3.9/site-packages (from nbconvert->jupyter==1.0.0->-r ./requirements.txt (line 4)) (0.4)\n",
      "Requirement already satisfied: bleach in /Users/huangxinzhe/opt/anaconda3/lib/python3.9/site-packages (from nbconvert->jupyter==1.0.0->-r ./requirements.txt (line 4)) (4.1.0)\n",
      "Requirement already satisfied: pandocfilters>=1.4.1 in /Users/huangxinzhe/opt/anaconda3/lib/python3.9/site-packages (from nbconvert->jupyter==1.0.0->-r ./requirements.txt (line 4)) (1.5.0)\n",
      "Requirement already satisfied: testpath in /Users/huangxinzhe/opt/anaconda3/lib/python3.9/site-packages (from nbconvert->jupyter==1.0.0->-r ./requirements.txt (line 4)) (0.6.0)\n",
      "Requirement already satisfied: defusedxml in /Users/huangxinzhe/opt/anaconda3/lib/python3.9/site-packages (from nbconvert->jupyter==1.0.0->-r ./requirements.txt (line 4)) (0.7.1)\n",
      "Requirement already satisfied: beautifulsoup4 in /Users/huangxinzhe/opt/anaconda3/lib/python3.9/site-packages (from nbconvert->jupyter==1.0.0->-r ./requirements.txt (line 4)) (4.12.2)\n",
      "Requirement already satisfied: nbclient<0.6.0,>=0.5.0 in /Users/huangxinzhe/opt/anaconda3/lib/python3.9/site-packages (from nbconvert->jupyter==1.0.0->-r ./requirements.txt (line 4)) (0.5.13)\n",
      "Requirement already satisfied: argon2-cffi in /Users/huangxinzhe/opt/anaconda3/lib/python3.9/site-packages (from notebook->jupyter==1.0.0->-r ./requirements.txt (line 4)) (21.3.0)\n",
      "Requirement already satisfied: ipython-genutils in /Users/huangxinzhe/opt/anaconda3/lib/python3.9/site-packages (from notebook->jupyter==1.0.0->-r ./requirements.txt (line 4)) (0.2.0)\n",
      "Requirement already satisfied: Send2Trash>=1.8.0 in /Users/huangxinzhe/opt/anaconda3/lib/python3.9/site-packages (from notebook->jupyter==1.0.0->-r ./requirements.txt (line 4)) (1.8.0)\n",
      "Requirement already satisfied: terminado>=0.8.3 in /Users/huangxinzhe/opt/anaconda3/lib/python3.9/site-packages (from notebook->jupyter==1.0.0->-r ./requirements.txt (line 4)) (0.17.1)\n",
      "Requirement already satisfied: prometheus-client in /Users/huangxinzhe/opt/anaconda3/lib/python3.9/site-packages (from notebook->jupyter==1.0.0->-r ./requirements.txt (line 4)) (0.14.1)\n",
      "Requirement already satisfied: nbclassic>=0.4.7 in /Users/huangxinzhe/opt/anaconda3/lib/python3.9/site-packages (from notebook->jupyter==1.0.0->-r ./requirements.txt (line 4)) (0.5.5)\n",
      "Requirement already satisfied: qtpy>=2.0.1 in /Users/huangxinzhe/opt/anaconda3/lib/python3.9/site-packages (from qtconsole->jupyter==1.0.0->-r ./requirements.txt (line 4)) (2.2.0)\n",
      "Requirement already satisfied: mpmath>=0.19 in /Users/huangxinzhe/opt/anaconda3/lib/python3.9/site-packages (from sympy->torch==2.1.2->-r ./requirements.txt (line 8)) (1.2.1)\n",
      "Requirement already satisfied: backcall in /Users/huangxinzhe/opt/anaconda3/lib/python3.9/site-packages (from ipython>=7.23.1->ipykernel->jupyter==1.0.0->-r ./requirements.txt (line 4)) (0.2.0)\n",
      "Requirement already satisfied: decorator in /Users/huangxinzhe/opt/anaconda3/lib/python3.9/site-packages (from ipython>=7.23.1->ipykernel->jupyter==1.0.0->-r ./requirements.txt (line 4)) (5.1.1)\n",
      "Requirement already satisfied: jedi>=0.16 in /Users/huangxinzhe/opt/anaconda3/lib/python3.9/site-packages (from ipython>=7.23.1->ipykernel->jupyter==1.0.0->-r ./requirements.txt (line 4)) (0.18.1)\n",
      "Requirement already satisfied: pickleshare in /Users/huangxinzhe/opt/anaconda3/lib/python3.9/site-packages (from ipython>=7.23.1->ipykernel->jupyter==1.0.0->-r ./requirements.txt (line 4)) (0.7.5)\n",
      "Requirement already satisfied: stack-data in /Users/huangxinzhe/opt/anaconda3/lib/python3.9/site-packages (from ipython>=7.23.1->ipykernel->jupyter==1.0.0->-r ./requirements.txt (line 4)) (0.2.0)\n",
      "Requirement already satisfied: pexpect>4.3 in /Users/huangxinzhe/opt/anaconda3/lib/python3.9/site-packages (from ipython>=7.23.1->ipykernel->jupyter==1.0.0->-r ./requirements.txt (line 4)) (4.8.0)\n",
      "Requirement already satisfied: importlib-metadata>=4.8.3 in /Users/huangxinzhe/opt/anaconda3/lib/python3.9/site-packages (from jupyter-client>=6.1.12->ipykernel->jupyter==1.0.0->-r ./requirements.txt (line 4)) (8.0.0)\n",
      "Requirement already satisfied: platformdirs>=2.5 in /Users/huangxinzhe/opt/anaconda3/lib/python3.9/site-packages (from jupyter-core!=5.0.*,>=4.12->jupyter-console->jupyter==1.0.0->-r ./requirements.txt (line 4)) (4.2.2)\n",
      "Requirement already satisfied: jupyter-server>=1.8 in /Users/huangxinzhe/opt/anaconda3/lib/python3.9/site-packages (from nbclassic>=0.4.7->notebook->jupyter==1.0.0->-r ./requirements.txt (line 4)) (1.23.4)\n",
      "Requirement already satisfied: notebook-shim>=0.1.0 in /Users/huangxinzhe/opt/anaconda3/lib/python3.9/site-packages (from nbclassic>=0.4.7->notebook->jupyter==1.0.0->-r ./requirements.txt (line 4)) (0.2.2)\n",
      "Requirement already satisfied: fastjsonschema in /Users/huangxinzhe/opt/anaconda3/lib/python3.9/site-packages (from nbformat>=4.4->nbconvert->jupyter==1.0.0->-r ./requirements.txt (line 4)) (2.16.2)\n",
      "Requirement already satisfied: jsonschema>=2.6 in /Users/huangxinzhe/opt/anaconda3/lib/python3.9/site-packages (from nbformat>=4.4->nbconvert->jupyter==1.0.0->-r ./requirements.txt (line 4)) (4.23.0)\n",
      "Requirement already satisfied: wcwidth in /Users/huangxinzhe/opt/anaconda3/lib/python3.9/site-packages (from prompt-toolkit>=3.0.30->jupyter-console->jupyter==1.0.0->-r ./requirements.txt (line 4)) (0.2.5)\n",
      "Requirement already satisfied: ptyprocess in /Users/huangxinzhe/opt/anaconda3/lib/python3.9/site-packages (from terminado>=0.8.3->notebook->jupyter==1.0.0->-r ./requirements.txt (line 4)) (0.7.0)\n",
      "Requirement already satisfied: argon2-cffi-bindings in /Users/huangxinzhe/opt/anaconda3/lib/python3.9/site-packages (from argon2-cffi->notebook->jupyter==1.0.0->-r ./requirements.txt (line 4)) (21.2.0)\n",
      "Requirement already satisfied: soupsieve>1.2 in /Users/huangxinzhe/opt/anaconda3/lib/python3.9/site-packages (from beautifulsoup4->nbconvert->jupyter==1.0.0->-r ./requirements.txt (line 4)) (2.4)\n",
      "Requirement already satisfied: webencodings in /Users/huangxinzhe/opt/anaconda3/lib/python3.9/site-packages (from bleach->nbconvert->jupyter==1.0.0->-r ./requirements.txt (line 4)) (0.5.1)\n",
      "Requirement already satisfied: zipp>=0.5 in /Users/huangxinzhe/opt/anaconda3/lib/python3.9/site-packages (from importlib-metadata>=4.8.3->jupyter-client>=6.1.12->ipykernel->jupyter==1.0.0->-r ./requirements.txt (line 4)) (3.11.0)\n",
      "Requirement already satisfied: parso<0.9.0,>=0.8.0 in /Users/huangxinzhe/opt/anaconda3/lib/python3.9/site-packages (from jedi>=0.16->ipython>=7.23.1->ipykernel->jupyter==1.0.0->-r ./requirements.txt (line 4)) (0.8.3)\n",
      "Requirement already satisfied: jsonschema-specifications>=2023.03.6 in /Users/huangxinzhe/opt/anaconda3/lib/python3.9/site-packages (from jsonschema>=2.6->nbformat>=4.4->nbconvert->jupyter==1.0.0->-r ./requirements.txt (line 4)) (2023.12.1)\n",
      "Requirement already satisfied: referencing>=0.28.4 in /Users/huangxinzhe/opt/anaconda3/lib/python3.9/site-packages (from jsonschema>=2.6->nbformat>=4.4->nbconvert->jupyter==1.0.0->-r ./requirements.txt (line 4)) (0.35.1)\n",
      "Requirement already satisfied: rpds-py>=0.7.1 in /Users/huangxinzhe/opt/anaconda3/lib/python3.9/site-packages (from jsonschema>=2.6->nbformat>=4.4->nbconvert->jupyter==1.0.0->-r ./requirements.txt (line 4)) (0.19.0)\n",
      "Requirement already satisfied: anyio<4,>=3.1.0 in /Users/huangxinzhe/opt/anaconda3/lib/python3.9/site-packages (from jupyter-server>=1.8->nbclassic>=0.4.7->notebook->jupyter==1.0.0->-r ./requirements.txt (line 4)) (3.5.0)\n",
      "Requirement already satisfied: websocket-client in /Users/huangxinzhe/opt/anaconda3/lib/python3.9/site-packages (from jupyter-server>=1.8->nbclassic>=0.4.7->notebook->jupyter==1.0.0->-r ./requirements.txt (line 4)) (0.58.0)\n",
      "Requirement already satisfied: cffi>=1.0.1 in /Users/huangxinzhe/opt/anaconda3/lib/python3.9/site-packages (from argon2-cffi-bindings->argon2-cffi->notebook->jupyter==1.0.0->-r ./requirements.txt (line 4)) (1.15.1)\n",
      "Requirement already satisfied: executing in /Users/huangxinzhe/opt/anaconda3/lib/python3.9/site-packages (from stack-data->ipython>=7.23.1->ipykernel->jupyter==1.0.0->-r ./requirements.txt (line 4)) (0.8.3)\n",
      "Requirement already satisfied: asttokens in /Users/huangxinzhe/opt/anaconda3/lib/python3.9/site-packages (from stack-data->ipython>=7.23.1->ipykernel->jupyter==1.0.0->-r ./requirements.txt (line 4)) (2.0.5)\n",
      "Requirement already satisfied: pure-eval in /Users/huangxinzhe/opt/anaconda3/lib/python3.9/site-packages (from stack-data->ipython>=7.23.1->ipykernel->jupyter==1.0.0->-r ./requirements.txt (line 4)) (0.2.2)\n",
      "Requirement already satisfied: sniffio>=1.1 in /Users/huangxinzhe/opt/anaconda3/lib/python3.9/site-packages (from anyio<4,>=3.1.0->jupyter-server>=1.8->nbclassic>=0.4.7->notebook->jupyter==1.0.0->-r ./requirements.txt (line 4)) (1.2.0)\n",
      "Requirement already satisfied: pycparser in /Users/huangxinzhe/opt/anaconda3/lib/python3.9/site-packages (from cffi>=1.0.1->argon2-cffi-bindings->argon2-cffi->notebook->jupyter==1.0.0->-r ./requirements.txt (line 4)) (2.21)\n",
      "Installing collected packages: torch\n",
      "  Attempting uninstall: torch\n",
      "    Found existing installation: torch 2.1.0\n",
      "    Uninstalling torch-2.1.0:\n",
      "      Successfully uninstalled torch-2.1.0\n",
      "Successfully installed torch-2.1.2\n"
     ]
    }
   ],
   "source": [
    "# -q: 这是pip install命令的一个选项，表示静默安装（quiet mode），减少输出信息。\n",
    "# -r ./requirements.txt: 这是pip install命令的一个选项，表示从指定的文件中读取要安装的包。\n",
    "!pip install -r ./requirements.txt"
   ]
  },
  {
   "cell_type": "code",
   "execution_count": 4,
   "metadata": {},
   "outputs": [],
   "source": [
    "# Ignore insignificant warnings (ex: deprecations)\n",
    "import warnings\n",
    "warnings.filterwarnings('ignore')"
   ]
  },
  {
   "cell_type": "code",
   "execution_count": null,
   "metadata": {},
   "outputs": [],
   "source": [
    "# Set a seed for reproducibility\n",
    "import torch\n",
    "\n",
    "\n",
    "def fix_torch_seed(seed=42):\n",
    "    torch.manual_seed(seed)  # 为CPU设置随机种子\n",
    "    torch.cuda.manual_seed(seed)  # 为当前GPU设置随机种子\n",
    "    torch.backends.cudnn.deterministic = True  # 保证每次结果一样\n",
    "    torch.backends.cudnn.benchmark = False  # 禁用benchmark，提高稳定性\n",
    "\n",
    "\n",
    "fix_torch_seed()"
   ]
  },
  {
   "cell_type": "markdown",
   "metadata": {},
   "source": [
    "## 加载预训练模型"
   ]
  },
  {
   "cell_type": "code",
   "execution_count": null,
   "metadata": {},
   "outputs": [],
   "source": [
    "model_path_or_name = \"./models/upstage/TinySolar-248m-4k\""
   ]
  },
  {
   "cell_type": "code",
   "execution_count": null,
   "metadata": {},
   "outputs": [],
   "source": [
    "from transformers import AutoModelForCausalLM\n",
    "tiny_general_model = AutoModelForCausalLM.from_pretrained(\n",
    "    model_path_or_name,\n",
    "    device_map=\"cpu\",  # change to auto if you have access to a GPU\n",
    "    torch_dtype=torch.bfloat16\n",
    ")"
   ]
  },
  {
   "cell_type": "code",
   "execution_count": null,
   "metadata": {},
   "outputs": [],
   "source": [
    "from transformers import AutoTokenizer\n",
    "tiny_general_tokenizer = AutoTokenizer.from_pretrained(\n",
    "    model_path_or_name\n",
    ")"
   ]
  },
  {
   "cell_type": "markdown",
   "metadata": {},
   "source": [
    "## 文本生成任务"
   ]
  },
  {
   "cell_type": "code",
   "execution_count": null,
   "metadata": {},
   "outputs": [],
   "source": [
    "prompt = \"I am an engineer. I love\""
   ]
  },
  {
   "cell_type": "code",
   "execution_count": null,
   "metadata": {},
   "outputs": [],
   "source": [
    "inputs = tiny_general_tokenizer(prompt, return_tensors=\"pt\")"
   ]
  },
  {
   "cell_type": "code",
   "execution_count": null,
   "metadata": {},
   "outputs": [],
   "source": [
    "from transformers import TextStreamer\n",
    "streamer = TextStreamer(\n",
    "    tiny_general_tokenizer,\n",
    "    # If you set to false, the model will first return the prompt and then the generated text\n",
    "    skip_prompt=True,  # skip_prompt表示是否跳过输入的prompt，直接返回生成的文本\n",
    "    skip_special_tokens=True  # skip_special_tokens表示是否跳过特殊的token，如<eos>等\n",
    ")"
   ]
  },
  {
   "cell_type": "code",
   "execution_count": null,
   "metadata": {},
   "outputs": [],
   "source": [
    "outputs = tiny_general_model.generate(\n",
    "    **inputs,\n",
    "    streamer=streamer,\n",
    "    use_cache=True,  # use_cache表示是否使用cache，如果为False，则不使用cache\n",
    "    max_new_tokens=128,\n",
    "    do_sample=False,  # do_sample表示是否使用采样，如果为False，则使用贪婪搜索\n",
    "    temperature=0.0,\n",
    "    repetition_penalty=1.1  # repetition_penalty表示重复惩罚，用于控制生成文本中重复的token\n",
    ")"
   ]
  },
  {
   "cell_type": "markdown",
   "metadata": {},
   "source": [
    "## Python代码生成"
   ]
  },
  {
   "cell_type": "code",
   "execution_count": null,
   "metadata": {},
   "outputs": [],
   "source": [
    "prompt = \"def find_max(numbers):\""
   ]
  },
  {
   "cell_type": "code",
   "execution_count": null,
   "metadata": {},
   "outputs": [],
   "source": [
    "inputs = tiny_general_tokenizer(prompt, return_tensors=\"pt\").to(tiny_general_model.device)\n",
    "\n",
    "streamer = TextStreamer(\n",
    "    tiny_general_tokenizer,\n",
    "    skip_prompt=True,  # Set to false to include the prompt in the output\n",
    "    skip_special_tokens=True\n",
    ")"
   ]
  },
  {
   "cell_type": "code",
   "execution_count": null,
   "metadata": {},
   "outputs": [],
   "source": [
    "outputs = tiny_general_model.generate(\n",
    "    **inputs,\n",
    "    streamer=streamer,\n",
    "    use_cache=True,\n",
    "    max_new_tokens=128,\n",
    "    do_sample=False,\n",
    "    temperature=0.0,\n",
    "    repetition_penalty=1.1\n",
    ")"
   ]
  },
  {
   "cell_type": "markdown",
   "metadata": {},
   "source": [
    "## 使用针对Python代码微调后的模型"
   ]
  },
  {
   "cell_type": "code",
   "execution_count": null,
   "metadata": {},
   "outputs": [],
   "source": [
    "model_path_or_name = \"./models/upstage/TinySolar-248m-4k-code-instruct\""
   ]
  },
  {
   "cell_type": "code",
   "execution_count": null,
   "metadata": {},
   "outputs": [],
   "source": [
    "tiny_finetuned_model = AutoModelForCausalLM.from_pretrained(\n",
    "    model_path_or_name,\n",
    "    device_map=\"cpu\",\n",
    "    torch_dtype=torch.bfloat16,\n",
    ")\n",
    "\n",
    "tiny_finetuned_tokenizer = AutoTokenizer.from_pretrained(\n",
    "    model_path_or_name\n",
    ")"
   ]
  },
  {
   "cell_type": "code",
   "execution_count": null,
   "metadata": {},
   "outputs": [],
   "source": [
    "prompt = \"def find_max(numbers):\"\n",
    "\n",
    "inputs = tiny_finetuned_tokenizer(\n",
    "    prompt, return_tensors=\"pt\"\n",
    ").to(tiny_finetuned_model.device)\n",
    "\n",
    "streamer = TextStreamer(\n",
    "    tiny_finetuned_tokenizer,\n",
    "    skip_prompt=True,\n",
    "    skip_special_tokens=True\n",
    ")\n",
    "\n",
    "outputs = tiny_finetuned_model.generate(\n",
    "    **inputs,\n",
    "    streamer=streamer,\n",
    "    use_cache=True,\n",
    "    max_new_tokens=128,\n",
    "    do_sample=False,\n",
    "    temperature=0.0,\n",
    "    repetition_penalty=1.1\n",
    ")"
   ]
  },
  {
   "cell_type": "markdown",
   "metadata": {},
   "source": [
    "- 仅通过预训练的模型具备相关知识，但是表达能力有限\n",
    "- 通过微调提升模型表达能力\n",
    "- 二次预训练提供模型更多的相关知识"
   ]
  },
  {
   "cell_type": "markdown",
   "metadata": {},
   "source": [
    "## 在大量Python代码上进行预训练的模型"
   ]
  },
  {
   "cell_type": "code",
   "execution_count": null,
   "metadata": {},
   "outputs": [],
   "source": [
    "model_path_or_name = \"./models/upstage/TinySolar-248m-4k-py\""
   ]
  },
  {
   "cell_type": "code",
   "execution_count": null,
   "metadata": {},
   "outputs": [],
   "source": [
    "tiny_custom_model = AutoModelForCausalLM.from_pretrained(\n",
    "    model_path_or_name,\n",
    "    device_map=\"cpu\",\n",
    "    torch_dtype=torch.bfloat16,\n",
    ")\n",
    "\n",
    "tiny_custom_tokenizer = AutoTokenizer.from_pretrained(\n",
    "    model_path_or_name\n",
    ")"
   ]
  },
  {
   "cell_type": "code",
   "execution_count": null,
   "metadata": {},
   "outputs": [],
   "source": [
    "prompt = \"def find_max(numbers):\"\n",
    "\n",
    "inputs = tiny_custom_tokenizer(\n",
    "    prompt, return_tensors=\"pt\"\n",
    ").to(tiny_custom_model.device)\n",
    "\n",
    "streamer = TextStreamer(\n",
    "    tiny_custom_tokenizer,\n",
    "    skip_prompt=True,\n",
    "    skip_special_tokens=True\n",
    ")\n",
    "\n",
    "outputs = tiny_custom_model.generate(\n",
    "    **inputs, streamer=streamer,\n",
    "    use_cache=True,\n",
    "    max_new_tokens=128,\n",
    "    do_sample=False,\n",
    "    repetition_penalty=1.1\n",
    ")"
   ]
  },
  {
   "cell_type": "markdown",
   "metadata": {},
   "source": []
  }
 ],
 "metadata": {
  "kernelspec": {
   "display_name": "base",
   "language": "python",
   "name": "python3"
  },
  "language_info": {
   "codemirror_mode": {
    "name": "ipython",
    "version": 3
   },
   "file_extension": ".py",
   "mimetype": "text/x-python",
   "name": "python",
   "nbconvert_exporter": "python",
   "pygments_lexer": "ipython3",
   "version": "3.9.12"
  }
 },
 "nbformat": 4,
 "nbformat_minor": 2
}
